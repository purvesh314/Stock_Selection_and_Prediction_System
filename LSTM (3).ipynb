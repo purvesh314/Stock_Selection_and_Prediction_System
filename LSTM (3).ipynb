{
  "nbformat": 4,
  "nbformat_minor": 0,
  "metadata": {
    "colab": {
      "name": "LSTM.ipynb",
      "provenance": [],
      "collapsed_sections": [],
      "toc_visible": true
    },
    "kernelspec": {
      "name": "python3",
      "display_name": "Python 3"
    }
  },
  "cells": [
    {
      "cell_type": "code",
      "metadata": {
        "id": "YYeDb1g8ibVW",
        "colab_type": "code",
        "colab": {
          "base_uri": "https://localhost:8080/",
          "height": 675
        },
        "outputId": "53d2ebbe-59da-4d07-a632-11a32c1fced0"
      },
      "source": [
        "%pip install tensorflow==1.14\n",
        "'''\n",
        "Long short-term memory (LSTM) is an artificial recurrent neural network (RNN) architecture used in the field of deep learning. \n",
        "Unlike standard feedforward neural networks, LSTM has feedback connections. \n",
        "It can not only process single data points (such as images), but also entire sequences of data (such as speech or video). --Wikipedia\n",
        "\n",
        "LSTMs are widely used for sequence prediction problems and have proven to be extremely effective.\n",
        "The reason they work so well is because LSTM is able to store past information that is important, and forget the information that is not. -Stackabuse.com\n",
        "\n",
        "Common Architecture of LSTM:\n",
        "Forget Gate\n",
        "Input Gate\n",
        "Output Gate\n",
        "\n",
        "'''"
      ],
      "execution_count": null,
      "outputs": [
        {
          "output_type": "stream",
          "text": [
            "Collecting tensorflow==1.14\n",
            "\u001b[?25l  Downloading https://files.pythonhosted.org/packages/de/f0/96fb2e0412ae9692dbf400e5b04432885f677ad6241c088ccc5fe7724d69/tensorflow-1.14.0-cp36-cp36m-manylinux1_x86_64.whl (109.2MB)\n",
            "\u001b[K     |████████████████████████████████| 109.2MB 49kB/s \n",
            "\u001b[?25hRequirement already satisfied: absl-py>=0.7.0 in /usr/local/lib/python3.6/dist-packages (from tensorflow==1.14) (0.9.0)\n",
            "Requirement already satisfied: gast>=0.2.0 in /usr/local/lib/python3.6/dist-packages (from tensorflow==1.14) (0.3.3)\n",
            "Requirement already satisfied: keras-preprocessing>=1.0.5 in /usr/local/lib/python3.6/dist-packages (from tensorflow==1.14) (1.1.0)\n",
            "Requirement already satisfied: wheel>=0.26 in /usr/local/lib/python3.6/dist-packages (from tensorflow==1.14) (0.34.2)\n",
            "Requirement already satisfied: wrapt>=1.11.1 in /usr/local/lib/python3.6/dist-packages (from tensorflow==1.14) (1.12.1)\n",
            "Requirement already satisfied: six>=1.10.0 in /usr/local/lib/python3.6/dist-packages (from tensorflow==1.14) (1.12.0)\n",
            "Collecting tensorboard<1.15.0,>=1.14.0\n",
            "\u001b[?25l  Downloading https://files.pythonhosted.org/packages/91/2d/2ed263449a078cd9c8a9ba50ebd50123adf1f8cfbea1492f9084169b89d9/tensorboard-1.14.0-py3-none-any.whl (3.1MB)\n",
            "\u001b[K     |████████████████████████████████| 3.2MB 29.2MB/s \n",
            "\u001b[?25hRequirement already satisfied: keras-applications>=1.0.6 in /usr/local/lib/python3.6/dist-packages (from tensorflow==1.14) (1.0.8)\n",
            "Requirement already satisfied: protobuf>=3.6.1 in /usr/local/lib/python3.6/dist-packages (from tensorflow==1.14) (3.10.0)\n",
            "Requirement already satisfied: termcolor>=1.1.0 in /usr/local/lib/python3.6/dist-packages (from tensorflow==1.14) (1.1.0)\n",
            "Requirement already satisfied: google-pasta>=0.1.6 in /usr/local/lib/python3.6/dist-packages (from tensorflow==1.14) (0.2.0)\n",
            "Requirement already satisfied: numpy<2.0,>=1.14.5 in /usr/local/lib/python3.6/dist-packages (from tensorflow==1.14) (1.18.2)\n",
            "Requirement already satisfied: astor>=0.6.0 in /usr/local/lib/python3.6/dist-packages (from tensorflow==1.14) (0.8.1)\n",
            "Collecting tensorflow-estimator<1.15.0rc0,>=1.14.0rc0\n",
            "\u001b[?25l  Downloading https://files.pythonhosted.org/packages/3c/d5/21860a5b11caf0678fbc8319341b0ae21a07156911132e0e71bffed0510d/tensorflow_estimator-1.14.0-py2.py3-none-any.whl (488kB)\n",
            "\u001b[K     |████████████████████████████████| 491kB 48.8MB/s \n",
            "\u001b[?25hRequirement already satisfied: grpcio>=1.8.6 in /usr/local/lib/python3.6/dist-packages (from tensorflow==1.14) (1.28.1)\n",
            "Requirement already satisfied: markdown>=2.6.8 in /usr/local/lib/python3.6/dist-packages (from tensorboard<1.15.0,>=1.14.0->tensorflow==1.14) (3.2.1)\n",
            "Requirement already satisfied: setuptools>=41.0.0 in /usr/local/lib/python3.6/dist-packages (from tensorboard<1.15.0,>=1.14.0->tensorflow==1.14) (46.1.3)\n",
            "Requirement already satisfied: werkzeug>=0.11.15 in /usr/local/lib/python3.6/dist-packages (from tensorboard<1.15.0,>=1.14.0->tensorflow==1.14) (1.0.1)\n",
            "Requirement already satisfied: h5py in /usr/local/lib/python3.6/dist-packages (from keras-applications>=1.0.6->tensorflow==1.14) (2.10.0)\n",
            "Installing collected packages: tensorboard, tensorflow-estimator, tensorflow\n",
            "  Found existing installation: tensorboard 2.2.0\n",
            "    Uninstalling tensorboard-2.2.0:\n",
            "      Successfully uninstalled tensorboard-2.2.0\n",
            "  Found existing installation: tensorflow-estimator 2.2.0rc0\n",
            "    Uninstalling tensorflow-estimator-2.2.0rc0:\n",
            "      Successfully uninstalled tensorflow-estimator-2.2.0rc0\n",
            "  Found existing installation: tensorflow 2.2.0rc3\n",
            "    Uninstalling tensorflow-2.2.0rc3:\n",
            "      Successfully uninstalled tensorflow-2.2.0rc3\n",
            "Successfully installed tensorboard-1.14.0 tensorflow-1.14.0 tensorflow-estimator-1.14.0\n"
          ],
          "name": "stdout"
        },
        {
          "output_type": "execute_result",
          "data": {
            "text/plain": [
              "'\\nLong short-term memory (LSTM) is an artificial recurrent neural network (RNN) architecture used in the field of deep learning. \\nUnlike standard feedforward neural networks, LSTM has feedback connections. \\nIt can not only process single data points (such as images), but also entire sequences of data (such as speech or video). --Wikipedia\\n\\nLSTMs are widely used for sequence prediction problems and have proven to be extremely effective.\\nThe reason they work so well is because LSTM is able to store past information that is important, and forget the information that is not. -Stackabuse.com\\n\\nCommon Architecture of LSTM:\\nForget Gate\\nInput Gate\\nOutput Gate\\n\\n'"
            ]
          },
          "metadata": {
            "tags": []
          },
          "execution_count": 1
        }
      ]
    },
    {
      "cell_type": "code",
      "metadata": {
        "id": "xBIKU23qJiJ4",
        "colab_type": "code",
        "colab": {
          "base_uri": "https://localhost:8080/",
          "height": 121
        },
        "outputId": "3044f18c-e70d-4e2e-c1f7-c2d3b1558f6f"
      },
      "source": [
        "from google.colab import drive\n",
        "drive.mount('/content/gdrive')"
      ],
      "execution_count": null,
      "outputs": [
        {
          "output_type": "stream",
          "text": [
            "Go to this URL in a browser: https://accounts.google.com/o/oauth2/auth?client_id=947318989803-6bn6qk8qdgf4n4g3pfee6491hc0brc4i.apps.googleusercontent.com&redirect_uri=urn%3aietf%3awg%3aoauth%3a2.0%3aoob&response_type=code&scope=email%20https%3a%2f%2fwww.googleapis.com%2fauth%2fdocs.test%20https%3a%2f%2fwww.googleapis.com%2fauth%2fdrive%20https%3a%2f%2fwww.googleapis.com%2fauth%2fdrive.photos.readonly%20https%3a%2f%2fwww.googleapis.com%2fauth%2fpeopleapi.readonly\n",
            "\n",
            "Enter your authorization code:\n",
            "··········\n",
            "Mounted at /content/gdrive\n"
          ],
          "name": "stdout"
        }
      ]
    },
    {
      "cell_type": "code",
      "metadata": {
        "id": "lf-PSxMrigHO",
        "colab_type": "code",
        "colab": {}
      },
      "source": [
        "# Description: This program uses an artificial recurrent neural network called Long Short Term Memory (LSTM) \n",
        "#              to predict the closing stock price of a corporation using the past 60 day stock price.\n",
        "#              \n",
        "#\n",
        "# Resources: https://www.analyticsvidhya.com/blog/2018/10/predicting-stock-price-machine-learningnd-deep-learning-techniques-python/\n",
        "#            https://stackabuse.com/time-series-analysis-with-lstm-using-pythons-keras-library/\n",
        "#            https://www.analyticsvidhya.com/blog/2017/12/fundamentals-of-deep-learning-introduction-to-lstm/\n",
        "#            https://en.wikipedia.org/wiki/Long_short-term_memory\n",
        "#            https://machinelearningmastery.com/how-to-improve-neural-network-stability-and-modeling-performance-with-data-scaling/\n",
        "#            https://medium.com/@dclengacher/keras-lstm-recurrent-neural-networks-c1f5febde03d "
      ],
      "execution_count": null,
      "outputs": []
    },
    {
      "cell_type": "code",
      "metadata": {
        "id": "68jw7pEtin6V",
        "colab_type": "code",
        "colab": {
          "base_uri": "https://localhost:8080/",
          "height": 536
        },
        "outputId": "855f71d3-5026-46ba-e5e2-7aa7d0d2c2ff"
      },
      "source": [
        "#Import the libraries\n",
        "import math\n",
        "import pandas_datareader as web\n",
        "import numpy as np\n",
        "import pandas as pd\n",
        "from sklearn.preprocessing import MinMaxScaler\n",
        "from keras.models import Sequential\n",
        "from keras.layers import Dense, LSTM\n",
        "import pickle\n",
        "# from tensorflow.python.keras.layers import Dense\n",
        "# from tensorflow.python.keras import Sequential\n",
        "import matplotlib.pyplot as plt\n",
        "plt.style.use('fivethirtyeight')"
      ],
      "execution_count": null,
      "outputs": [
        {
          "output_type": "stream",
          "text": [
            "/usr/local/lib/python3.6/dist-packages/pandas_datareader/compat/__init__.py:7: FutureWarning: pandas.util.testing is deprecated. Use the functions in the public API at pandas.testing instead.\n",
            "  from pandas.util.testing import assert_frame_equal\n",
            "Using TensorFlow backend.\n",
            "/usr/local/lib/python3.6/dist-packages/tensorflow/python/framework/dtypes.py:516: FutureWarning: Passing (type, 1) or '1type' as a synonym of type is deprecated; in a future version of numpy, it will be understood as (type, (1,)) / '(1,)type'.\n",
            "  _np_qint8 = np.dtype([(\"qint8\", np.int8, 1)])\n",
            "/usr/local/lib/python3.6/dist-packages/tensorflow/python/framework/dtypes.py:517: FutureWarning: Passing (type, 1) or '1type' as a synonym of type is deprecated; in a future version of numpy, it will be understood as (type, (1,)) / '(1,)type'.\n",
            "  _np_quint8 = np.dtype([(\"quint8\", np.uint8, 1)])\n",
            "/usr/local/lib/python3.6/dist-packages/tensorflow/python/framework/dtypes.py:518: FutureWarning: Passing (type, 1) or '1type' as a synonym of type is deprecated; in a future version of numpy, it will be understood as (type, (1,)) / '(1,)type'.\n",
            "  _np_qint16 = np.dtype([(\"qint16\", np.int16, 1)])\n",
            "/usr/local/lib/python3.6/dist-packages/tensorflow/python/framework/dtypes.py:519: FutureWarning: Passing (type, 1) or '1type' as a synonym of type is deprecated; in a future version of numpy, it will be understood as (type, (1,)) / '(1,)type'.\n",
            "  _np_quint16 = np.dtype([(\"quint16\", np.uint16, 1)])\n",
            "/usr/local/lib/python3.6/dist-packages/tensorflow/python/framework/dtypes.py:520: FutureWarning: Passing (type, 1) or '1type' as a synonym of type is deprecated; in a future version of numpy, it will be understood as (type, (1,)) / '(1,)type'.\n",
            "  _np_qint32 = np.dtype([(\"qint32\", np.int32, 1)])\n",
            "/usr/local/lib/python3.6/dist-packages/tensorflow/python/framework/dtypes.py:525: FutureWarning: Passing (type, 1) or '1type' as a synonym of type is deprecated; in a future version of numpy, it will be understood as (type, (1,)) / '(1,)type'.\n",
            "  np_resource = np.dtype([(\"resource\", np.ubyte, 1)])\n",
            "/usr/local/lib/python3.6/dist-packages/tensorboard/compat/tensorflow_stub/dtypes.py:541: FutureWarning: Passing (type, 1) or '1type' as a synonym of type is deprecated; in a future version of numpy, it will be understood as (type, (1,)) / '(1,)type'.\n",
            "  _np_qint8 = np.dtype([(\"qint8\", np.int8, 1)])\n",
            "/usr/local/lib/python3.6/dist-packages/tensorboard/compat/tensorflow_stub/dtypes.py:542: FutureWarning: Passing (type, 1) or '1type' as a synonym of type is deprecated; in a future version of numpy, it will be understood as (type, (1,)) / '(1,)type'.\n",
            "  _np_quint8 = np.dtype([(\"quint8\", np.uint8, 1)])\n",
            "/usr/local/lib/python3.6/dist-packages/tensorboard/compat/tensorflow_stub/dtypes.py:543: FutureWarning: Passing (type, 1) or '1type' as a synonym of type is deprecated; in a future version of numpy, it will be understood as (type, (1,)) / '(1,)type'.\n",
            "  _np_qint16 = np.dtype([(\"qint16\", np.int16, 1)])\n",
            "/usr/local/lib/python3.6/dist-packages/tensorboard/compat/tensorflow_stub/dtypes.py:544: FutureWarning: Passing (type, 1) or '1type' as a synonym of type is deprecated; in a future version of numpy, it will be understood as (type, (1,)) / '(1,)type'.\n",
            "  _np_quint16 = np.dtype([(\"quint16\", np.uint16, 1)])\n",
            "/usr/local/lib/python3.6/dist-packages/tensorboard/compat/tensorflow_stub/dtypes.py:545: FutureWarning: Passing (type, 1) or '1type' as a synonym of type is deprecated; in a future version of numpy, it will be understood as (type, (1,)) / '(1,)type'.\n",
            "  _np_qint32 = np.dtype([(\"qint32\", np.int32, 1)])\n",
            "/usr/local/lib/python3.6/dist-packages/tensorboard/compat/tensorflow_stub/dtypes.py:550: FutureWarning: Passing (type, 1) or '1type' as a synonym of type is deprecated; in a future version of numpy, it will be understood as (type, (1,)) / '(1,)type'.\n",
            "  np_resource = np.dtype([(\"resource\", np.ubyte, 1)])\n"
          ],
          "name": "stderr"
        },
        {
          "output_type": "display_data",
          "data": {
            "text/html": [
              "<p style=\"color: red;\">\n",
              "The default version of TensorFlow in Colab will switch to TensorFlow 2.x on the 27th of March, 2020.<br>\n",
              "We recommend you <a href=\"https://www.tensorflow.org/guide/migrate\" target=\"_blank\">upgrade</a> now\n",
              "or ensure your notebook will continue to use TensorFlow 1.x via the <code>%tensorflow_version 1.x</code> magic:\n",
              "<a href=\"https://colab.research.google.com/notebooks/tensorflow_version.ipynb\" target=\"_blank\">more info</a>.</p>\n"
            ],
            "text/plain": [
              "<IPython.core.display.HTML object>"
            ]
          },
          "metadata": {
            "tags": []
          }
        }
      ]
    },
    {
      "cell_type": "code",
      "metadata": {
        "id": "eQbLBmbIi6VV",
        "colab_type": "code",
        "colab": {
          "base_uri": "https://localhost:8080/",
          "height": 431
        },
        "outputId": "ac78ad64-d58a-40fc-82d6-37c67f2c815f"
      },
      "source": [
        "#Get the Stock Quote: The price of a stock as quoted on an exchange\n",
        "df = web.DataReader('^NSEBANK', data_source='yahoo', start='2007-09-17', end='2020-04-16') #end = '2017-12-31', format = 'YYYY-MM-DD'\n",
        "#Show the data\n",
        "# df=pd.read_csv('/content/gdrive/My Drive/Reliance_Technical.csv')\n",
        "df"
      ],
      "execution_count": null,
      "outputs": [
        {
          "output_type": "execute_result",
          "data": {
            "text/html": [
              "<div>\n",
              "<style scoped>\n",
              "    .dataframe tbody tr th:only-of-type {\n",
              "        vertical-align: middle;\n",
              "    }\n",
              "\n",
              "    .dataframe tbody tr th {\n",
              "        vertical-align: top;\n",
              "    }\n",
              "\n",
              "    .dataframe thead th {\n",
              "        text-align: right;\n",
              "    }\n",
              "</style>\n",
              "<table border=\"1\" class=\"dataframe\">\n",
              "  <thead>\n",
              "    <tr style=\"text-align: right;\">\n",
              "      <th></th>\n",
              "      <th>High</th>\n",
              "      <th>Low</th>\n",
              "      <th>Open</th>\n",
              "      <th>Close</th>\n",
              "      <th>Volume</th>\n",
              "      <th>Adj Close</th>\n",
              "    </tr>\n",
              "    <tr>\n",
              "      <th>Date</th>\n",
              "      <th></th>\n",
              "      <th></th>\n",
              "      <th></th>\n",
              "      <th></th>\n",
              "      <th></th>\n",
              "      <th></th>\n",
              "    </tr>\n",
              "  </thead>\n",
              "  <tbody>\n",
              "    <tr>\n",
              "      <th>2007-09-17</th>\n",
              "      <td>6977.200195</td>\n",
              "      <td>6843.000000</td>\n",
              "      <td>6898.000000</td>\n",
              "      <td>6897.100098</td>\n",
              "      <td>0.0</td>\n",
              "      <td>6897.100098</td>\n",
              "    </tr>\n",
              "    <tr>\n",
              "      <th>2007-09-18</th>\n",
              "      <td>7078.950195</td>\n",
              "      <td>6883.600098</td>\n",
              "      <td>6921.149902</td>\n",
              "      <td>7059.649902</td>\n",
              "      <td>0.0</td>\n",
              "      <td>7059.649902</td>\n",
              "    </tr>\n",
              "    <tr>\n",
              "      <th>2007-09-19</th>\n",
              "      <td>7419.350098</td>\n",
              "      <td>7111.000000</td>\n",
              "      <td>7111.000000</td>\n",
              "      <td>7401.850098</td>\n",
              "      <td>0.0</td>\n",
              "      <td>7401.850098</td>\n",
              "    </tr>\n",
              "    <tr>\n",
              "      <th>2007-09-20</th>\n",
              "      <td>7462.899902</td>\n",
              "      <td>7343.600098</td>\n",
              "      <td>7404.950195</td>\n",
              "      <td>7390.149902</td>\n",
              "      <td>0.0</td>\n",
              "      <td>7390.149902</td>\n",
              "    </tr>\n",
              "    <tr>\n",
              "      <th>2007-09-21</th>\n",
              "      <td>7506.350098</td>\n",
              "      <td>7367.149902</td>\n",
              "      <td>7378.299805</td>\n",
              "      <td>7464.500000</td>\n",
              "      <td>0.0</td>\n",
              "      <td>7464.500000</td>\n",
              "    </tr>\n",
              "    <tr>\n",
              "      <th>...</th>\n",
              "      <td>...</td>\n",
              "      <td>...</td>\n",
              "      <td>...</td>\n",
              "      <td>...</td>\n",
              "      <td>...</td>\n",
              "      <td>...</td>\n",
              "    </tr>\n",
              "    <tr>\n",
              "      <th>2020-04-09</th>\n",
              "      <td>19988.300781</td>\n",
              "      <td>19166.900391</td>\n",
              "      <td>19553.150391</td>\n",
              "      <td>19913.599609</td>\n",
              "      <td>390000.0</td>\n",
              "      <td>19913.599609</td>\n",
              "    </tr>\n",
              "    <tr>\n",
              "      <th>2020-04-13</th>\n",
              "      <td>19887.050781</td>\n",
              "      <td>19294.000000</td>\n",
              "      <td>19854.900391</td>\n",
              "      <td>19488.000000</td>\n",
              "      <td>288200.0</td>\n",
              "      <td>19488.000000</td>\n",
              "    </tr>\n",
              "    <tr>\n",
              "      <th>2020-04-15</th>\n",
              "      <td>20184.099609</td>\n",
              "      <td>18776.750000</td>\n",
              "      <td>20096.349609</td>\n",
              "      <td>19057.050781</td>\n",
              "      <td>389900.0</td>\n",
              "      <td>19057.050781</td>\n",
              "    </tr>\n",
              "    <tr>\n",
              "      <th>2020-04-16</th>\n",
              "      <td>19520.300781</td>\n",
              "      <td>18703.449219</td>\n",
              "      <td>18957.150391</td>\n",
              "      <td>19400.000000</td>\n",
              "      <td>350300.0</td>\n",
              "      <td>19400.000000</td>\n",
              "    </tr>\n",
              "    <tr>\n",
              "      <th>2020-04-17</th>\n",
              "      <td>20866.550781</td>\n",
              "      <td>19729.300781</td>\n",
              "      <td>20394.750000</td>\n",
              "      <td>20681.449219</td>\n",
              "      <td>0.0</td>\n",
              "      <td>20681.449219</td>\n",
              "    </tr>\n",
              "  </tbody>\n",
              "</table>\n",
              "<p>2801 rows × 6 columns</p>\n",
              "</div>"
            ],
            "text/plain": [
              "                    High           Low  ...    Volume     Adj Close\n",
              "Date                                    ...                        \n",
              "2007-09-17   6977.200195   6843.000000  ...       0.0   6897.100098\n",
              "2007-09-18   7078.950195   6883.600098  ...       0.0   7059.649902\n",
              "2007-09-19   7419.350098   7111.000000  ...       0.0   7401.850098\n",
              "2007-09-20   7462.899902   7343.600098  ...       0.0   7390.149902\n",
              "2007-09-21   7506.350098   7367.149902  ...       0.0   7464.500000\n",
              "...                  ...           ...  ...       ...           ...\n",
              "2020-04-09  19988.300781  19166.900391  ...  390000.0  19913.599609\n",
              "2020-04-13  19887.050781  19294.000000  ...  288200.0  19488.000000\n",
              "2020-04-15  20184.099609  18776.750000  ...  389900.0  19057.050781\n",
              "2020-04-16  19520.300781  18703.449219  ...  350300.0  19400.000000\n",
              "2020-04-17  20866.550781  19729.300781  ...       0.0  20681.449219\n",
              "\n",
              "[2801 rows x 6 columns]"
            ]
          },
          "metadata": {
            "tags": []
          },
          "execution_count": 5
        }
      ]
    },
    {
      "cell_type": "code",
      "metadata": {
        "id": "IayE9gpijH3d",
        "colab_type": "code",
        "colab": {
          "base_uri": "https://localhost:8080/",
          "height": 34
        },
        "outputId": "4eecbdbe-156f-475c-b610-b7cdcc3e2e53"
      },
      "source": [
        "#Show the number of rows and columns in the data\n",
        "#The data frame has 2004 rows of data and 6 columns\n",
        "df.shape"
      ],
      "execution_count": null,
      "outputs": [
        {
          "output_type": "execute_result",
          "data": {
            "text/plain": [
              "(2801, 6)"
            ]
          },
          "metadata": {
            "tags": []
          },
          "execution_count": 6
        }
      ]
    },
    {
      "cell_type": "code",
      "metadata": {
        "id": "sTLbwEB-jSY_",
        "colab_type": "code",
        "colab": {
          "base_uri": "https://localhost:8080/",
          "height": 558
        },
        "outputId": "5206b387-e329-4e80-e29d-ba7a6a400a4f"
      },
      "source": [
        "#Visualize the closing price history\n",
        "plt.figure(figsize=(16,8))\n",
        "plt.title('Close Price History')\n",
        "plt.plot(df['Close'])\n",
        "plt.xlabel('Date',fontsize=18)\n",
        "plt.ylabel('Close Price USD ($)',fontsize=18)\n",
        "plt.show()"
      ],
      "execution_count": null,
      "outputs": [
        {
          "output_type": "display_data",
          "data": {
            "image/png": "[encoded data removed]",
            "text/plain": [
              "<Figure size 1152x576 with 1 Axes>"
            ]
          },
          "metadata": {
            "tags": []
          }
        }
      ]
    },
    {
      "cell_type": "code",
      "metadata": {
        "id": "-KLhwghSl-PA",
        "colab_type": "code",
        "colab": {}
      },
      "source": [
        "#Create a new dataframe with only the 'Close' column\n",
        "data = df.filter(['Close'])\n",
        "# data=df[['Adj Close','Volume','upperband','middleband','lowerband','sma_50','sma_200','adx','dx','macd','plus_di','minus_di','rsi','natr']]\n",
        "#Converting the dataframe to a numpy array\n",
        "dataset = data.values\n",
        "#Get /Compute the number of rows to train the model on\n",
        "#That is equivalently the length that we want the training data set to have \n",
        "# and equivalently it is equal to the ending index - 1 of the training data set\n",
        "training_data_len = math.ceil( len(dataset) *.8) # Length is about 80% of the original data, which is 2003 * .8 = 1603 rounded up\n"
      ],
      "execution_count": null,
      "outputs": []
    },
    {
      "cell_type": "code",
      "metadata": {
        "id": "KD6E0tB3mav_",
        "colab_type": "code",
        "colab": {}
      },
      "source": [
        "#Scale the all of the data to be values between 0 and 1\n",
        "#In practice it is nearly always advantageous to apply pre-processing transformations/ scaling/ normalization to the input data before it is presented to a network. \n",
        "scaler = MinMaxScaler(feature_range=(0, 1))\n",
        "scaled_data = scaler.fit_transform(dataset) #Compute the minimum and maximum to be used for later scaling to data, then transform it."
      ],
      "execution_count": null,
      "outputs": []
    },
    {
      "cell_type": "code",
      "metadata": {
        "id": "CN4qHfiTml6H",
        "colab_type": "code",
        "colab": {}
      },
      "source": [
        "#Create the training data set\n",
        "#Create the scaled training data set :  a new array containing the scaled values from index 0 to 1602\n",
        "train_data = scaled_data[0:training_data_len  , : ]\n",
        "#Split the data into x_train and y_train data sets\n",
        "x_train=[]\n",
        "y_train = []\n",
        "for i in range(60,len(train_data)):\n",
        "    x_train.append(train_data[i-60:i,0])#The independent training variables or training feature set 'X' (holds the stock price value for the past 60 days at position 'i-60')\n",
        "    y_train.append(train_data[i,0])#The dependent training variables, or target, or training label set 'Y' (holds the stock price at the 61st day at position 'i-60')\n",
        "#Convert x_train and y_train to numpy arrays so we can use them for training the LSTM model\n",
        "x_train, y_train = np.array(x_train), np.array(y_train)\n",
        "\n",
        "#A LSTM network expects the input to be 3-Dimensional in the form [samples, time steps, features]:\n",
        "# samples is the number of data points (or rows/ records) we have, \n",
        "# time steps is the number of time-dependent steps that are there in a single data point (60),\n",
        "# features/indicators refers to the number of variables we have for the corresponding true value in Y, since we are only using one feature 'Close',\n",
        "# the number of features/indicators will be one\n",
        "#Reshape the data into the shape accepted by the LSTM\n",
        "x_train = np.reshape(x_train, (x_train.shape[0],x_train.shape[1],1))"
      ],
      "execution_count": null,
      "outputs": []
    },
    {
      "cell_type": "code",
      "metadata": {
        "id": "6naftY_2mtun",
        "colab_type": "code",
        "colab": {}
      },
      "source": [
        "#Build the LSTM network model\n",
        "model = Sequential()\n",
        "#First LSTM layer, input_shape = the number of time steps (60 or x_train.shape[1]) while the last parameter is the number of features (1)\n",
        "model.add(LSTM(units=50, return_sequences=True, input_shape=(x_train.shape[1],1))) #Units=number of neurons, return_sequences is set to true since we will add more layers to the model.\n",
        "model.add(LSTM(units=50, return_sequences=False)) #LSTM layer with 50 neurons, return sequence by default is False but I put it here just to show\n",
        "model.add(Dense(units=25)) #Just your regular densely-connected Neural Network layer with 25 neurons\n",
        "model.add(Dense(units=1)) #Just your regular densely-connected Neural Network layer with 1 neuron"
      ],
      "execution_count": null,
      "outputs": []
    },
    {
      "cell_type": "code",
      "metadata": {
        "id": "xyi2HWXGmzQO",
        "colab_type": "code",
        "colab": {}
      },
      "source": [
        "#Compile the model\n",
        "# optimizer = adam and the optimizer is used to improve upon the loss\n",
        "# loss function = mean_squared_error (MSE) and loss functions are used to measure how well the model did on training\n",
        "model.compile(optimizer='adam', loss='mean_squared_error')"
      ],
      "execution_count": null,
      "outputs": []
    },
    {
      "cell_type": "code",
      "metadata": {
        "id": "T6UmQtTdm2nu",
        "colab_type": "code",
        "colab": {
          "base_uri": "https://localhost:8080/",
          "height": 238
        },
        "outputId": "e61b97bd-c6b9-4972-cd39-67a23f69bb6e"
      },
      "source": [
        "#Fit / Train the model\n",
        "#Batch Size: Total number of training examples present in a single batch\n",
        "#Epoch:The number of iterations when an ENTIRE dataset is passed forward and backward through the neural network .\n",
        "#Fit: Another word for train\n",
        "model.fit(x_train, y_train, batch_size=1, epochs=5)\n",
        "model_save_name = 'model_stonks_BNF3'\n",
        "path = F\"/content/gdrive/My Drive/{model_save_name}\"\n",
        "model.save(model_save_name)\n",
        "# torch.save(model.state_dict(), path)\n"
      ],
      "execution_count": null,
      "outputs": [
        {
          "output_type": "stream",
          "text": [
            "WARNING:tensorflow:From /usr/local/lib/python3.6/dist-packages/keras/backend/tensorflow_backend.py:422: The name tf.global_variables is deprecated. Please use tf.compat.v1.global_variables instead.\n",
            "\n",
            "Epoch 1/5\n",
            "2181/2181 [==============================] - 71s 32ms/step - loss: 0.0010\n",
            "Epoch 2/5\n",
            "2181/2181 [==============================] - 72s 33ms/step - loss: 3.7833e-04\n",
            "Epoch 3/5\n",
            "2181/2181 [==============================] - 71s 33ms/step - loss: 2.7376e-04\n",
            "Epoch 4/5\n",
            "2181/2181 [==============================] - 72s 33ms/step - loss: 1.9979e-04\n",
            "Epoch 5/5\n",
            "2181/2181 [==============================] - 71s 33ms/step - loss: 1.8670e-04\n"
          ],
          "name": "stdout"
        }
      ]
    },
    {
      "cell_type": "code",
      "metadata": {
        "id": "qmCGkarVnUbn",
        "colab_type": "code",
        "colab": {}
      },
      "source": [
        "#Create the testing data set\n",
        "#Create the scaled testing data set : a new array containing the scaled values from index 1543 to 2002 of the dataframe, for a total length of 460, using the past 60 days\n",
        "test_data = scaled_data[training_data_len - 60: , : ]\n",
        "#Create the x_test and y_test data sets\n",
        "x_test = []\n",
        "y_test =  dataset[training_data_len : , : ] #Get all of the rows from index 1603 to the rest and all of the columns (in this case it's only column 'Close'), so 2003 - 1603 = 400 rows of data\n",
        "for i in range(60,len(test_data)):\n",
        "    x_test.append(test_data[i-60:i,0])#The independent testing variables or testing feature set 'X' (holds the stock price value for the past 60 days at position 'i-60')\n",
        "#Convert x_test to a numpy array so we can use it to test and make predictions using the LSTM model we created\n",
        "x_test = np.array(x_test)\n",
        "\n",
        "#A LSTM network expects the input to be 3-Dimensional in the form [samples, time steps, features]:\n",
        "# samples is the number of data points (or rows/ records) we have, \n",
        "# time steps is the number of time-dependent steps that are there in a single data point (60),\n",
        "# features/indicators refers to the number of variables we have for the corresponding true value in Y, since we are only using one feature 'Close',\n",
        "# the number of features/indicators will be one\n",
        "#Reshape the data into the shape accepted by the LSTM\n",
        "x_test = np.reshape(x_test, (x_test.shape[0],x_test.shape[1],1)) #Reshaping the variable to be 3-Dimensional in the form [samples, time steps, features] for the Neural Network"
      ],
      "execution_count": null,
      "outputs": []
    },
    {
      "cell_type": "code",
      "metadata": {
        "id": "ojA5gTzfnVxO",
        "colab_type": "code",
        "colab": {}
      },
      "source": [
        "#Getting the models predicted price values\n",
        "# from keras.models import load_model\n",
        "# model=load_model('/content/drive/My Drive/model_stonks_DIXON')\n",
        "\n"
      ],
      "execution_count": null,
      "outputs": []
    },
    {
      "cell_type": "code",
      "metadata": {
        "id": "d4LuZsBPDUHw",
        "colab_type": "code",
        "colab": {
          "base_uri": "https://localhost:8080/",
          "height": 34
        },
        "outputId": "d0bcc81c-6614-4b92-fc42-7874cd5cf6f3"
      },
      "source": [
        "predictions = model.predict(x_test) #Getting the models predicted price values\n",
        "scaler_new=MinMaxScaler(feature_range=(0,1))\n",
        "y_scale= scaler_new.fit_transform(y_test)\n",
        "rmse=np.sqrt(np.mean((predictions- y_scale)**2))\n",
        "rmse"
      ],
      "execution_count": null,
      "outputs": [
        {
          "output_type": "execute_result",
          "data": {
            "text/plain": [
              "0.1875709711836267"
            ]
          },
          "metadata": {
            "tags": []
          },
          "execution_count": 15
        }
      ]
    },
    {
      "cell_type": "code",
      "metadata": {
        "id": "qGDMo-1iCTFk",
        "colab_type": "code",
        "colab": {}
      },
      "source": [
        "predictions = scaler.inverse_transform(predictions) #Undo the scaling"
      ],
      "execution_count": null,
      "outputs": []
    },
    {
      "cell_type": "code",
      "metadata": {
        "id": "HQJFsQDJnYmn",
        "colab_type": "code",
        "colab": {}
      },
      "source": [
        "#Get the root mean squared error (rmse)\n",
        "#RMSE is a good measure of how accurately the model predicts the response\n",
        "#(RMSE) is the standard deviation of the residuals (prediction errors).\n",
        "#Lower values of RMSE indicate better fit. \n",
        "#Usually you want to evaluate your model with other metrics as well to truly get an idea of how well your model performs.\n",
        "\n",
        "#Calculate/Get the value of RMSE\n",
        "# rmse=np.sqrt(np.mean((predictions- y_test)**2))\n",
        "# rmse"
      ],
      "execution_count": null,
      "outputs": []
    },
    {
      "cell_type": "code",
      "metadata": {
        "id": "4MkIDy0fng03",
        "colab_type": "code",
        "colab": {
          "base_uri": "https://localhost:8080/",
          "height": 676
        },
        "outputId": "b1bfc41f-ce41-4c30-e53b-fbb6b6188a32"
      },
      "source": [
        "#Plot the data\n",
        "train = data[:training_data_len] # A dataframe to get rows from index 0 to 1602 (1603 rows total)\n",
        "valid = data[training_data_len:] # A dataframe to get rows from index 1603 to the end of the list \n",
        "valid['Predictions'] = predictions #Create a new column called 'Predictions' that will hold the predicted prices\n",
        "\n",
        "#Visualize the data\n",
        "plt.figure(figsize=(16,8))\n",
        "plt.title('Model')\n",
        "plt.xlabel('Date',fontsize=18)\n",
        "plt.ylabel('Close Price INR (Rs.)',fontsize=18)\n",
        "plt.plot(train['Close'])\n",
        "plt.plot(valid[['Close','Predictions']])\n",
        "plt.legend(['Train', 'Val', 'Prediction' ], loc='lower right')\n",
        "plt.show()\n",
        "plt.savefig('BNF_Result.png')"
      ],
      "execution_count": null,
      "outputs": [
        {
          "output_type": "stream",
          "text": [
            "/usr/local/lib/python3.6/dist-packages/ipykernel_launcher.py:3: SettingWithCopyWarning: \n",
            "A value is trying to be set on a copy of a slice from a DataFrame.\n",
            "Try using .loc[row_indexer,col_indexer] = value instead\n",
            "\n",
            "See the caveats in the documentation: https://pandas.pydata.org/pandas-docs/stable/user_guide/indexing.html#returning-a-view-versus-a-copy\n",
            "  This is separate from the ipykernel package so we can avoid doing imports until\n"
          ],
          "name": "stderr"
        },
        {
          "output_type": "display_data",
          "data": {
            "image/png": "[encoded data removed]",
            "text/plain": [
              "<Figure size 1152x576 with 1 Axes>"
            ]
          },
          "metadata": {
            "tags": []
          }
        },
        {
          "output_type": "display_data",
          "data": {
            "text/plain": [
              "<Figure size 432x288 with 0 Axes>"
            ]
          },
          "metadata": {
            "tags": []
          }
        }
      ]
    },
    {
      "cell_type": "code",
      "metadata": {
        "id": "6DFcVnwIllSB",
        "colab_type": "code",
        "colab": {
          "base_uri": "https://localhost:8080/",
          "height": 431
        },
        "outputId": "55f9b1f0-a784-4723-a363-cc2f39334c95"
      },
      "source": [
        "#Show the valid/actual/close prices and predicted prices\n",
        "valid"
      ],
      "execution_count": null,
      "outputs": [
        {
          "output_type": "execute_result",
          "data": {
            "text/html": [
              "<div>\n",
              "<style scoped>\n",
              "    .dataframe tbody tr th:only-of-type {\n",
              "        vertical-align: middle;\n",
              "    }\n",
              "\n",
              "    .dataframe tbody tr th {\n",
              "        vertical-align: top;\n",
              "    }\n",
              "\n",
              "    .dataframe thead th {\n",
              "        text-align: right;\n",
              "    }\n",
              "</style>\n",
              "<table border=\"1\" class=\"dataframe\">\n",
              "  <thead>\n",
              "    <tr style=\"text-align: right;\">\n",
              "      <th></th>\n",
              "      <th>Close</th>\n",
              "      <th>Predictions</th>\n",
              "    </tr>\n",
              "    <tr>\n",
              "      <th>Date</th>\n",
              "      <th></th>\n",
              "      <th></th>\n",
              "    </tr>\n",
              "  </thead>\n",
              "  <tbody>\n",
              "    <tr>\n",
              "      <th>2017-12-27</th>\n",
              "      <td>25496.050781</td>\n",
              "      <td>26280.376953</td>\n",
              "    </tr>\n",
              "    <tr>\n",
              "      <th>2017-12-28</th>\n",
              "      <td>25490.000000</td>\n",
              "      <td>26109.212891</td>\n",
              "    </tr>\n",
              "    <tr>\n",
              "      <th>2017-12-29</th>\n",
              "      <td>25539.449219</td>\n",
              "      <td>26094.589844</td>\n",
              "    </tr>\n",
              "    <tr>\n",
              "      <th>2018-01-02</th>\n",
              "      <td>25338.250000</td>\n",
              "      <td>26146.830078</td>\n",
              "    </tr>\n",
              "    <tr>\n",
              "      <th>2018-01-03</th>\n",
              "      <td>25318.599609</td>\n",
              "      <td>25958.904297</td>\n",
              "    </tr>\n",
              "    <tr>\n",
              "      <th>...</th>\n",
              "      <td>...</td>\n",
              "      <td>...</td>\n",
              "    </tr>\n",
              "    <tr>\n",
              "      <th>2020-04-09</th>\n",
              "      <td>19913.599609</td>\n",
              "      <td>19526.263672</td>\n",
              "    </tr>\n",
              "    <tr>\n",
              "      <th>2020-04-13</th>\n",
              "      <td>19488.000000</td>\n",
              "      <td>20413.298828</td>\n",
              "    </tr>\n",
              "    <tr>\n",
              "      <th>2020-04-15</th>\n",
              "      <td>19057.050781</td>\n",
              "      <td>20044.728516</td>\n",
              "    </tr>\n",
              "    <tr>\n",
              "      <th>2020-04-16</th>\n",
              "      <td>19400.000000</td>\n",
              "      <td>19538.470703</td>\n",
              "    </tr>\n",
              "    <tr>\n",
              "      <th>2020-04-17</th>\n",
              "      <td>20681.449219</td>\n",
              "      <td>19784.652344</td>\n",
              "    </tr>\n",
              "  </tbody>\n",
              "</table>\n",
              "<p>560 rows × 2 columns</p>\n",
              "</div>"
            ],
            "text/plain": [
              "                   Close   Predictions\n",
              "Date                                  \n",
              "2017-12-27  25496.050781  26280.376953\n",
              "2017-12-28  25490.000000  26109.212891\n",
              "2017-12-29  25539.449219  26094.589844\n",
              "2018-01-02  25338.250000  26146.830078\n",
              "2018-01-03  25318.599609  25958.904297\n",
              "...                  ...           ...\n",
              "2020-04-09  19913.599609  19526.263672\n",
              "2020-04-13  19488.000000  20413.298828\n",
              "2020-04-15  19057.050781  20044.728516\n",
              "2020-04-16  19400.000000  19538.470703\n",
              "2020-04-17  20681.449219  19784.652344\n",
              "\n",
              "[560 rows x 2 columns]"
            ]
          },
          "metadata": {
            "tags": []
          },
          "execution_count": 19
        }
      ]
    },
    {
      "cell_type": "code",
      "metadata": {
        "id": "dXF1KRd939p8",
        "colab_type": "code",
        "colab": {
          "base_uri": "https://localhost:8080/",
          "height": 34
        },
        "outputId": "f7e556ae-9c0f-447a-c037-44291c007627"
      },
      "source": [
        "from google.colab import drive\n",
        "drive.mount('/content/drive')"
      ],
      "execution_count": null,
      "outputs": [
        {
          "output_type": "stream",
          "text": [
            "Mounted at /content/drive\n"
          ],
          "name": "stdout"
        }
      ]
    },
    {
      "cell_type": "code",
      "metadata": {
        "id": "I7_Y_lBk9DwN",
        "colab_type": "code",
        "colab": {
          "base_uri": "https://localhost:8080/",
          "height": 34
        },
        "outputId": "7ca05514-b650-4ca9-b23d-2999c6fe34da"
      },
      "source": [
        "#Get the quote from '2012-01-01' to '2019-12-17' to predict the closing price for '2019-12-18'\n",
        "apple_quote = web.DataReader('^NSEBANK', data_source='yahoo', start='2007-09-17', end='2020-04-16') \n",
        "\n",
        "#Create a new dataframe with only the 'Close' column\n",
        "new_df = apple_quote.filter(['Close']) \n",
        "#Get the last 60 rows of data from the stock/ aka get the past 60 days of the stock and convert it to an array and store it in a variable\n",
        "last_60_days = new_df[-60:].values \n",
        "\n",
        "#Transform the data to values between 0 and 1\n",
        "last_60_days_scaled  = scaler.transform(last_60_days) \n",
        "\n",
        "#Create an empty list\n",
        "X_test = [] \n",
        "#Append the data (the past 60 values to predict the 61st value)\n",
        "X_test.append(last_60_days_scaled) \n",
        "#Convert X_test to a numpy array so we can use it to test and make predictions using the LSTM model we created\n",
        "X_test = np.array(X_test) \n",
        "#Reshape the data\n",
        "X_test = np.reshape(X_test, (X_test.shape[0],X_test.shape[1],1))\n",
        "\n",
        "#Get the predicted scaled price\n",
        "pred_price = model.predict(X_test) \n",
        "#Undo the scaling\n",
        "pred_price = scaler.inverse_transform(pred_price) \n",
        "print(pred_price)#Print the predicted price\n",
        "\n"
      ],
      "execution_count": null,
      "outputs": [
        {
          "output_type": "stream",
          "text": [
            "[[21038.996]]\n"
          ],
          "name": "stdout"
        }
      ]
    },
    {
      "cell_type": "code",
      "metadata": {
        "id": "eJODAiqfEpUg",
        "colab_type": "code",
        "colab": {
          "base_uri": "https://localhost:8080/",
          "height": 67
        },
        "outputId": "77003b8c-a1b0-4767-ed00-431e6b4460e3"
      },
      "source": [
        "#Get the actual closing price for that day\n",
        "#from datetime import datetime\n",
        "today = '2020 - 04-17'\n",
        "#today = datetime.today().strftime('%Y-%m-%d') #Get todays date and format it in the form YYYY-MM-DD\n",
        "todays_price = web.DataReader('^NSEBANK', data_source='yahoo', start=today, end=today) #Get the stock price for today\n",
        "print(todays_price['Close']) #Print the closing price of the stock for today\n"
      ],
      "execution_count": null,
      "outputs": [
        {
          "output_type": "stream",
          "text": [
            "Date\n",
            "2020-04-17    20681.449219\n",
            "Name: Close, dtype: float64\n"
          ],
          "name": "stdout"
        }
      ]
    }
  ]
}